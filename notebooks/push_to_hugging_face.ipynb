{
 "cells": [
  {
   "cell_type": "code",
   "execution_count": 6,
   "metadata": {
    "execution": {
     "iopub.execute_input": "2025-05-05T02:49:52.752912Z",
     "iopub.status.busy": "2025-05-05T02:49:52.752303Z",
     "iopub.status.idle": "2025-05-05T02:49:58.637505Z",
     "shell.execute_reply": "2025-05-05T02:49:58.635727Z",
     "shell.execute_reply.started": "2025-05-05T02:49:52.752870Z"
    },
    "trusted": true
   },
   "outputs": [
    {
     "name": "stdout",
     "output_type": "stream",
     "text": [
      "Requirement already satisfied: pip in /usr/local/lib/python3.11/dist-packages (25.1.1)\n",
      "Note: you may need to restart the kernel to use updated packages.\n",
      "Requirement already satisfied: uv in /usr/local/lib/python3.11/dist-packages (0.7.2)\n",
      "Note: you may need to restart the kernel to use updated packages.\n",
      "\u001b[2mUsing Python 3.11.11 environment at: /usr\u001b[0m\n",
      "\u001b[2mAudited \u001b[1m3 packages\u001b[0m \u001b[2min 213ms\u001b[0m\u001b[0m\n"
     ]
    }
   ],
   "source": [
    "# %%capture\n",
    "# Install the required libraries\n",
    "%pip install --upgrade pip\n",
    "%pip install uv\n",
    "!uv pip install --system --no-progress --link-mode=symlink huggingface_hub kagglehub[hf-datasets] hf_transfer"
   ]
  },
  {
   "cell_type": "code",
   "execution_count": null,
   "metadata": {
    "execution": {
     "iopub.execute_input": "2025-05-05T02:49:58.641822Z",
     "iopub.status.busy": "2025-05-05T02:49:58.640347Z",
     "iopub.status.idle": "2025-05-05T02:49:58.651119Z",
     "shell.execute_reply": "2025-05-05T02:49:58.649674Z",
     "shell.execute_reply.started": "2025-05-05T02:49:58.641767Z"
    },
    "trusted": true
   },
   "outputs": [
    {
     "name": "stdout",
     "output_type": "stream",
     "text": [
      "Overwriting /root/.config/kaggle/kaggle.json\n"
     ]
    }
   ],
   "source": [
    "%%writefile /root/.config/kaggle/kaggle.json\n",
    "{\"username\":\"venkat423\",\"key\":\"<API_KEY>\"}\n"
   ]
  },
  {
   "cell_type": "code",
   "execution_count": 8,
   "metadata": {
    "execution": {
     "iopub.execute_input": "2025-05-05T02:49:58.652639Z",
     "iopub.status.busy": "2025-05-05T02:49:58.652178Z",
     "iopub.status.idle": "2025-05-05T02:54:47.029512Z",
     "shell.execute_reply": "2025-05-05T02:54:47.027512Z",
     "shell.execute_reply.started": "2025-05-05T02:49:58.652572Z"
    },
    "trusted": true
   },
   "outputs": [
    {
     "name": "stdout",
     "output_type": "stream",
     "text": [
      "Warning: Your Kaggle API key is readable by other users on this system! To fix this, you can run 'chmod 600 /root/.config/kaggle/kaggle.json'\n",
      "README.md: Skipping, found more recently modified local copy (use --force to force download)\n",
      "adapter_config.json: Skipping, found more recently modified local copy (use --force to force download)\n",
      "Output file downloaded to out/model/outputs/checkpoint-1000/adapter_model.safetensors\n",
      "Output file downloaded to out/model/outputs/checkpoint-1000/added_tokens.json\n",
      "Output file downloaded to out/model/outputs/checkpoint-1000/chat_template.json\n",
      "Output file downloaded to out/model/outputs/checkpoint-1000/optimizer.pt\n",
      "Output file downloaded to out/model/outputs/checkpoint-1000/preprocessor_config.json\n",
      "Output file downloaded to out/model/outputs/checkpoint-1000/processor_config.json\n",
      "Output file downloaded to out/model/outputs/checkpoint-1000/rng_state.pth\n",
      "Output file downloaded to out/model/outputs/checkpoint-1000/scheduler.pt\n",
      "Output file downloaded to out/model/outputs/checkpoint-1000/special_tokens_map.json\n",
      "Output file downloaded to out/model/outputs/checkpoint-1000/tokenizer.json\n",
      "Output file downloaded to out/model/outputs/checkpoint-1000/tokenizer.model\n",
      "Output file downloaded to out/model/outputs/checkpoint-1000/tokenizer_config.json\n",
      "Output file downloaded to out/model/outputs/checkpoint-1000/trainer_state.json\n",
      "Output file downloaded to out/model/outputs/checkpoint-1000/training_args.bin\n",
      "Output file downloaded to out/model/outputs/checkpoint-500/README.md\n",
      "Output file downloaded to out/model/outputs/checkpoint-500/adapter_config.json\n",
      "Output file downloaded to out/model/outputs/checkpoint-500/adapter_model.safetensors\n",
      "Output file downloaded to out/model/outputs/checkpoint-500/added_tokens.json\n",
      "Output file downloaded to out/model/outputs/checkpoint-500/chat_template.json\n",
      "Output file downloaded to out/model/outputs/checkpoint-500/optimizer.pt\n",
      "Output file downloaded to out/model/outputs/checkpoint-500/preprocessor_config.json\n",
      "Output file downloaded to out/model/outputs/checkpoint-500/processor_config.json\n",
      "Output file downloaded to out/model/outputs/checkpoint-500/rng_state.pth\n",
      "Output file downloaded to out/model/outputs/checkpoint-500/scheduler.pt\n",
      "Output file downloaded to out/model/outputs/checkpoint-500/special_tokens_map.json\n",
      "Output file downloaded to out/model/outputs/checkpoint-500/tokenizer.json\n",
      "Output file downloaded to out/model/outputs/checkpoint-500/tokenizer.model\n",
      "Output file downloaded to out/model/outputs/checkpoint-500/tokenizer_config.json\n",
      "Output file downloaded to out/model/outputs/checkpoint-500/trainer_state.json\n",
      "Output file downloaded to out/model/outputs/checkpoint-500/training_args.bin\n",
      "Output file downloaded to out/model/unsloth_compiled_cache/AqlmLoraLinear_peft_forward.py\n",
      "Output file downloaded to out/model/unsloth_compiled_cache/AwqLoraLinear_peft_forward.py\n",
      "Output file downloaded to out/model/unsloth_compiled_cache/BatchNorm1d.py\n",
      "Output file downloaded to out/model/unsloth_compiled_cache/BatchNorm2d.py\n",
      "Output file downloaded to out/model/unsloth_compiled_cache/BatchNorm3d.py\n",
      "Output file downloaded to out/model/unsloth_compiled_cache/Conv1d.py\n",
      "Output file downloaded to out/model/unsloth_compiled_cache/Conv2d.py\n",
      "Output file downloaded to out/model/unsloth_compiled_cache/Conv3d.py\n",
      "Output file downloaded to out/model/unsloth_compiled_cache/ConvTranspose1d.py\n",
      "Output file downloaded to out/model/unsloth_compiled_cache/ConvTranspose2d.py\n",
      "Output file downloaded to out/model/unsloth_compiled_cache/ConvTranspose3d.py\n",
      "Output file downloaded to out/model/unsloth_compiled_cache/GroupNorm.py\n",
      "Output file downloaded to out/model/unsloth_compiled_cache/LayerNorm.py\n",
      "Output file downloaded to out/model/unsloth_compiled_cache/Linear4bit_peft_forward.py\n",
      "Output file downloaded to out/model/unsloth_compiled_cache/Linear8bitLt_peft_forward.py\n",
      "Output file downloaded to out/model/unsloth_compiled_cache/Linear_peft_forward.py\n",
      "Output file downloaded to out/model/unsloth_compiled_cache/LoraParallelLinear_peft_forward.py\n",
      "Output file downloaded to out/model/unsloth_compiled_cache/QuantLinear_peft_forward.py\n",
      "Output file downloaded to out/model/unsloth_compiled_cache/RMSNorm.py\n",
      "Output file downloaded to out/model/unsloth_compiled_cache/UnslothAlignPropTrainer.py\n",
      "Output file downloaded to out/model/unsloth_compiled_cache/UnslothBCOTrainer.py\n",
      "Output file downloaded to out/model/unsloth_compiled_cache/UnslothCPOTrainer.py\n",
      "Output file downloaded to out/model/unsloth_compiled_cache/UnslothDDPOTrainer.py\n",
      "Output file downloaded to out/model/unsloth_compiled_cache/UnslothDPOTrainer.py\n",
      "Output file downloaded to out/model/unsloth_compiled_cache/UnslothGKDTrainer.py\n",
      "Output file downloaded to out/model/unsloth_compiled_cache/UnslothGRPOTrainer.py\n",
      "Output file downloaded to out/model/unsloth_compiled_cache/UnslothKTOTrainer.py\n",
      "Output file downloaded to out/model/unsloth_compiled_cache/UnslothNashMDTrainer.py\n",
      "Output file downloaded to out/model/unsloth_compiled_cache/UnslothORPOTrainer.py\n",
      "Output file downloaded to out/model/unsloth_compiled_cache/UnslothOnlineDPOTrainer.py\n",
      "Output file downloaded to out/model/unsloth_compiled_cache/UnslothPPOTrainer.py\n",
      "Output file downloaded to out/model/unsloth_compiled_cache/UnslothPRMTrainer.py\n",
      "Output file downloaded to out/model/unsloth_compiled_cache/UnslothRLOOTrainer.py\n",
      "Output file downloaded to out/model/unsloth_compiled_cache/UnslothRewardTrainer.py\n",
      "Output file downloaded to out/model/unsloth_compiled_cache/UnslothSFTTrainer.py\n",
      "Output file downloaded to out/model/unsloth_compiled_cache/UnslothXPOTrainer.py\n",
      "Output file downloaded to out/model/unsloth_compiled_cache/__pycache__/AqlmLoraLinear_peft_forward.cpython-311.pyc\n",
      "Output file downloaded to out/model/unsloth_compiled_cache/__pycache__/AwqLoraLinear_peft_forward.cpython-311.pyc\n",
      "Output file downloaded to out/model/unsloth_compiled_cache/__pycache__/BatchNorm1d.cpython-311.pyc\n",
      "Output file downloaded to out/model/unsloth_compiled_cache/__pycache__/BatchNorm2d.cpython-311.pyc\n",
      "Output file downloaded to out/model/unsloth_compiled_cache/__pycache__/BatchNorm3d.cpython-311.pyc\n",
      "Output file downloaded to out/model/unsloth_compiled_cache/__pycache__/Conv1d.cpython-311.pyc\n",
      "Output file downloaded to out/model/unsloth_compiled_cache/__pycache__/Conv2d.cpython-311.pyc\n",
      "Output file downloaded to out/model/unsloth_compiled_cache/__pycache__/Conv3d.cpython-311.pyc\n",
      "Output file downloaded to out/model/unsloth_compiled_cache/__pycache__/ConvTranspose1d.cpython-311.pyc\n",
      "Output file downloaded to out/model/unsloth_compiled_cache/__pycache__/ConvTranspose2d.cpython-311.pyc\n",
      "Output file downloaded to out/model/unsloth_compiled_cache/__pycache__/ConvTranspose3d.cpython-311.pyc\n",
      "Output file downloaded to out/model/unsloth_compiled_cache/__pycache__/GroupNorm.cpython-311.pyc\n",
      "Output file downloaded to out/model/unsloth_compiled_cache/__pycache__/LayerNorm.cpython-311.pyc\n",
      "Output file downloaded to out/model/unsloth_compiled_cache/__pycache__/Linear4bit_peft_forward.cpython-311.pyc\n",
      "Output file downloaded to out/model/unsloth_compiled_cache/__pycache__/Linear8bitLt_peft_forward.cpython-311.pyc\n",
      "Output file downloaded to out/model/unsloth_compiled_cache/__pycache__/Linear_peft_forward.cpython-311.pyc\n",
      "Output file downloaded to out/model/unsloth_compiled_cache/__pycache__/LoraParallelLinear_peft_forward.cpython-311.pyc\n",
      "Output file downloaded to out/model/unsloth_compiled_cache/__pycache__/QuantLinear_peft_forward.cpython-311.pyc\n",
      "Output file downloaded to out/model/unsloth_compiled_cache/__pycache__/RMSNorm.cpython-311.pyc\n",
      "Output file downloaded to out/model/unsloth_compiled_cache/__pycache__/UnslothAlignPropTrainer.cpython-311.pyc\n",
      "Output file downloaded to out/model/unsloth_compiled_cache/__pycache__/UnslothBCOTrainer.cpython-311.pyc\n",
      "Output file downloaded to out/model/unsloth_compiled_cache/__pycache__/UnslothCPOTrainer.cpython-311.pyc\n",
      "Output file downloaded to out/model/unsloth_compiled_cache/__pycache__/UnslothDDPOTrainer.cpython-311.pyc\n",
      "Output file downloaded to out/model/unsloth_compiled_cache/__pycache__/UnslothDPOTrainer.cpython-311.pyc\n",
      "Output file downloaded to out/model/unsloth_compiled_cache/__pycache__/UnslothGKDTrainer.cpython-311.pyc\n",
      "Output file downloaded to out/model/unsloth_compiled_cache/__pycache__/UnslothGRPOTrainer.cpython-311.pyc\n",
      "Output file downloaded to out/model/unsloth_compiled_cache/__pycache__/UnslothKTOTrainer.cpython-311.pyc\n",
      "Output file downloaded to out/model/unsloth_compiled_cache/__pycache__/UnslothNashMDTrainer.cpython-311.pyc\n",
      "Output file downloaded to out/model/unsloth_compiled_cache/__pycache__/UnslothORPOTrainer.cpython-311.pyc\n",
      "Output file downloaded to out/model/unsloth_compiled_cache/__pycache__/UnslothOnlineDPOTrainer.cpython-311.pyc\n",
      "Output file downloaded to out/model/unsloth_compiled_cache/__pycache__/UnslothPPOTrainer.cpython-311.pyc\n",
      "Output file downloaded to out/model/unsloth_compiled_cache/__pycache__/UnslothPRMTrainer.cpython-311.pyc\n",
      "Output file downloaded to out/model/unsloth_compiled_cache/__pycache__/UnslothRLOOTrainer.cpython-311.pyc\n",
      "Output file downloaded to out/model/unsloth_compiled_cache/__pycache__/UnslothRewardTrainer.cpython-311.pyc\n",
      "Output file downloaded to out/model/unsloth_compiled_cache/__pycache__/UnslothSFTTrainer.cpython-311.pyc\n",
      "Output file downloaded to out/model/unsloth_compiled_cache/__pycache__/UnslothXPOTrainer.cpython-311.pyc\n",
      "Output file downloaded to out/model/unsloth_compiled_cache/__pycache__/unsloth_compiled_module_gemma3.cpython-311.pyc\n",
      "Output file downloaded to out/model/unsloth_compiled_cache/__pycache__/unsloth_compiled_module_siglip.cpython-311.pyc\n",
      "Output file downloaded to out/model/unsloth_compiled_cache/unsloth_compiled_module_gemma3.py\n",
      "Output file downloaded to out/model/unsloth_compiled_cache/unsloth_compiled_module_siglip.py\n",
      "Output file downloaded to out/model/wandb/run-20250504_095759-zzozhaxg/files/output.log\n",
      "Output file downloaded to out/model/wandb/run-20250504_095759-zzozhaxg/files/requirements.txt\n",
      "Output file downloaded to out/model/wandb/run-20250504_095759-zzozhaxg/files/wandb-metadata.json\n",
      "Output file downloaded to out/model/wandb/run-20250504_095759-zzozhaxg/logs/debug-internal.log\n",
      "Output file downloaded to out/model/wandb/run-20250504_095759-zzozhaxg/logs/debug.log\n",
      "Output file downloaded to out/model/wandb/run-20250504_095759-zzozhaxg/run-zzozhaxg.wandb\n",
      "Kernel log downloaded to out/model/gemma-3-4b-wiki.log \n"
     ]
    }
   ],
   "source": [
    "!kaggle kernels output venkat423/gemma-3-4b-wiki/checkpoint-1000 -p out/model"
   ]
  },
  {
   "cell_type": "code",
   "execution_count": 9,
   "metadata": {
    "execution": {
     "iopub.execute_input": "2025-05-05T02:54:47.032652Z",
     "iopub.status.busy": "2025-05-05T02:54:47.032082Z",
     "iopub.status.idle": "2025-05-05T02:56:29.020646Z",
     "shell.execute_reply": "2025-05-05T02:56:29.019071Z",
     "shell.execute_reply.started": "2025-05-05T02:54:47.032526Z"
    },
    "trusted": true
   },
   "outputs": [
    {
     "data": {
      "application/vnd.jupyter.widget-view+json": {
       "model_id": "6a7bde00c47a44c6a9a2baf8e62d3127",
       "version_major": 2,
       "version_minor": 0
      },
      "text/plain": [
       "scheduler.pt:   0%|          | 0.00/1.06k [00:00<?, ?B/s]"
      ]
     },
     "metadata": {},
     "output_type": "display_data"
    },
    {
     "data": {
      "application/vnd.jupyter.widget-view+json": {
       "model_id": "a42b95ff42c74ac5b716ac37c0bc772e",
       "version_major": 2,
       "version_minor": 0
      },
      "text/plain": [
       "Upload 7 LFS files:   0%|          | 0/7 [00:00<?, ?it/s]"
      ]
     },
     "metadata": {},
     "output_type": "display_data"
    },
    {
     "data": {
      "application/vnd.jupyter.widget-view+json": {
       "model_id": "984c9557287546ae90650899788ba7c1",
       "version_major": 2,
       "version_minor": 0
      },
      "text/plain": [
       "adapter_model.safetensors:   0%|          | 0.00/3.35G [00:00<?, ?B/s]"
      ]
     },
     "metadata": {},
     "output_type": "display_data"
    },
    {
     "data": {
      "application/vnd.jupyter.widget-view+json": {
       "model_id": "fe842271d5c24adebbdea8394a93acab",
       "version_major": 2,
       "version_minor": 0
      },
      "text/plain": [
       "rng_state.pth:   0%|          | 0.00/14.2k [00:00<?, ?B/s]"
      ]
     },
     "metadata": {},
     "output_type": "display_data"
    },
    {
     "data": {
      "application/vnd.jupyter.widget-view+json": {
       "model_id": "c0d2c663688d42e4adffbf4c34bdae70",
       "version_major": 2,
       "version_minor": 0
      },
      "text/plain": [
       "tokenizer.json:   0%|          | 0.00/33.4M [00:00<?, ?B/s]"
      ]
     },
     "metadata": {},
     "output_type": "display_data"
    },
    {
     "data": {
      "application/vnd.jupyter.widget-view+json": {
       "model_id": "5e2900e052e14ff9acf5e0345a4a887f",
       "version_major": 2,
       "version_minor": 0
      },
      "text/plain": [
       "optimizer.pt:   0%|          | 0.00/243M [00:00<?, ?B/s]"
      ]
     },
     "metadata": {},
     "output_type": "display_data"
    },
    {
     "data": {
      "application/vnd.jupyter.widget-view+json": {
       "model_id": "af063ac7d5e0425296b3db3ab37b7769",
       "version_major": 2,
       "version_minor": 0
      },
      "text/plain": [
       "tokenizer.model:   0%|          | 0.00/4.69M [00:00<?, ?B/s]"
      ]
     },
     "metadata": {},
     "output_type": "display_data"
    },
    {
     "data": {
      "application/vnd.jupyter.widget-view+json": {
       "model_id": "d364b91e1ce74970b605b901fce0c9e7",
       "version_major": 2,
       "version_minor": 0
      },
      "text/plain": [
       "training_args.bin:   0%|          | 0.00/5.56k [00:00<?, ?B/s]"
      ]
     },
     "metadata": {},
     "output_type": "display_data"
    },
    {
     "name": "stderr",
     "output_type": "stream",
     "text": [
      "/usr/local/lib/python3.11/dist-packages/huggingface_hub/hf_api.py:9561: UserWarning: Warnings while validating metadata in README.md:\n",
      "- empty or missing yaml metadata in repo card\n",
      "  warnings.warn(f\"Warnings while validating metadata in README.md:\\n{message}\")\n"
     ]
    },
    {
     "name": "stdout",
     "output_type": "stream",
     "text": [
      "Model uploaded successfully to the Hugging Face Hub!\n"
     ]
    }
   ],
   "source": [
    "import os\n",
    "import huggingface_hub\n",
    "\n",
    "# Upload the model to Hugging Face Hub only if training was successful\n",
    "output_dir = \"out/model/outputs/checkpoint-1000\"\n",
    "try:\n",
    "    # Get HF token\n",
    "    try:\n",
    "        from kaggle_secrets import UserSecretsClient\n",
    "        hf_token = UserSecretsClient().get_secret(\"HF_TOKEN\")\n",
    "    except Exception as e:\n",
    "        print(f\"Error getting HF token: {e}\")\n",
    "        print(\"Please enter your Hugging Face token manually:\")\n",
    "        hf_token = input()\n",
    "    \n",
    "    # Login to Hugging Face\n",
    "    from huggingface_hub import login\n",
    "    login(token=hf_token)\n",
    "    \n",
    "    from huggingface_hub import HfApi\n",
    "    api = HfApi()\n",
    "    \n",
    "    # Create model card with dataset information\n",
    "    model_card = \"\"\"\n",
    "    ---\n",
    "    language: bn\n",
    "    license: cc-by-nc-4.0\n",
    "    datasets:\n",
    "    - https://www.kaggle.com/datasets/saurabhshahane/bangla-wikipedia\n",
    "    ---\n",
    "    \n",
    "    # Gemma-3-4b Fine-tuned on Bengali Wikipedia\n",
    "    \n",
    "    \"\"\"\n",
    "    \n",
    "    with open(\"model_card.md\", \"w\") as f:\n",
    "        f.write(model_card)\n",
    "    \n",
    "    # Upload the model and model card\n",
    "    api.upload_folder(\n",
    "        folder_path=output_dir,\n",
    "        path_in_repo=\".\",\n",
    "        repo_id=\"Venkat423/Gemma-3-4b-finetuned-bengali-wikidata\",\n",
    "        repo_type=\"model\",\n",
    "        commit_message=\"Upload fine-tuned Gemma-3-4b model on Bengali Wiki dataset\",\n",
    "    )\n",
    "    \n",
    "    api.upload_file(\n",
    "        path_or_fileobj=\"model_card.md\",\n",
    "        path_in_repo=\"README.md\",\n",
    "        repo_id=\"Venkat423/Gemma-3-4b-finetuned-bengali-wikidata\",\n",
    "        repo_type=\"model\",\n",
    "        commit_message=\"Add model card\",\n",
    "    )\n",
    "    \n",
    "    print(\"Model uploaded successfully to the Hugging Face Hub!\")\n",
    "except Exception as e:\n",
    "    print(f\"Error uploading model to Hugging Face Hub: {e}\")"
   ]
  }
 ],
 "metadata": {
  "kaggle": {
   "accelerator": "none",
   "dataSources": [],
   "isGpuEnabled": false,
   "isInternetEnabled": true,
   "language": "python",
   "sourceType": "notebook"
  },
  "kernelspec": {
   "display_name": "Python 3",
   "language": "python",
   "name": "python3"
  },
  "language_info": {
   "codemirror_mode": {
    "name": "ipython",
    "version": 3
   },
   "file_extension": ".py",
   "mimetype": "text/x-python",
   "name": "python",
   "nbconvert_exporter": "python",
   "pygments_lexer": "ipython3",
   "version": "3.11.11"
  }
 },
 "nbformat": 4,
 "nbformat_minor": 4
}
