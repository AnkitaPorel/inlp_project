{
  "cells": [
    {
      "cell_type": "code",
      "execution_count": null,
      "metadata": {
        "id": "vCXKKMh4FUaJ"
      },
      "outputs": [],
      "source": [
        "#@title Colab Extra Install { display-mode: \"form\" }\n",
        "%%capture\n",
        "import os\n",
        "if \"COLAB_\" not in \"\".join(os.environ.keys()):\n",
        "    !pip install unsloth vllm\n",
        "else:\n",
        "    !pip install --no-deps unsloth vllm\n",
        "    # [NOTE] Do the below ONLY in Colab! Use [[pip install unsloth vllm]]\n",
        "    # Skip restarting message in Colab\n",
        "    import sys, re, requests; modules = list(sys.modules.keys())\n",
        "    for x in modules: sys.modules.pop(x) if \"PIL\" in x or \"google\" in x else None\n",
        "    !pip install --no-deps bitsandbytes accelerate xformers==0.0.29.post3 peft \"trl==0.15.2\" triton cut_cross_entropy unsloth_zoo\n",
        "    !pip install sentencepiece protobuf datasets huggingface_hub hf_transfer\n",
        "\n",
        "    # vLLM requirements - vLLM breaks Colab due to reinstalling numpy\n",
        "    f = requests.get(\"https://raw.githubusercontent.com/vllm-project/vllm/refs/heads/main/requirements/common.txt\").content\n",
        "    with open(\"vllm_requirements.txt\", \"wb\") as file:\n",
        "        file.write(re.sub(rb\"(transformers|numpy|xformers)[^\\n]{1,}\\n\", b\"\", f))\n",
        "    !pip install -r vllm_requirements.txt"
      ]
    },
    {
      "cell_type": "code",
      "execution_count": null,
      "metadata": {
        "id": "selhvK3TFYq0"
      },
      "outputs": [],
      "source": [
        "# @title For environments other than Google Colab\n",
        "%pip install unsloth vllm"
      ]
    },
    {
      "cell_type": "code",
      "execution_count": null,
      "metadata": {
        "id": "i2H5XtqrFa2O"
      },
      "outputs": [],
      "source": [
        "# @title For Loading Checkpoints from Google Drive (on colab)\n",
        "from google.colab import drive\n",
        "drive.mount('/content/drive')"
      ]
    },
    {
      "cell_type": "code",
      "execution_count": null,
      "metadata": {
        "id": "VBVMaua4FdL5"
      },
      "outputs": [],
      "source": [
        "# @title For setting up dataset in Kaggle\n",
        "!git clone https://github.com/shuhanmirza/Bengali-Poem-Dataset.git\n",
        "%cd /kaggle/working/Bengali-Poem-Dataset"
      ]
    },
    {
      "cell_type": "code",
      "execution_count": null,
      "metadata": {
        "id": "8h_N2zHAFgC8"
      },
      "outputs": [],
      "source": [
        "# @title For setting up dataset in Kaggle\n",
        "import os\n",
        "import pandas as pd\n",
        "\n",
        "dataset_dir = 'dataset'\n",
        "\n",
        "data = []\n",
        "\n",
        "for poet in os.listdir(dataset_dir):\n",
        "    poet_dir = os.path.join(dataset_dir, poet)\n",
        "    if os.path.isdir(poet_dir):\n",
        "        for poem in os.listdir(poet_dir):\n",
        "            poem_dir = os.path.join(poet_dir, poem)\n",
        "            if os.path.isdir(poem_dir):\n",
        "                class_text = None\n",
        "                class_file_path = os.path.join(poem_dir, 'CLASS.txt')\n",
        "                if os.path.exists(class_file_path):\n",
        "                    with open(class_file_path, 'r', encoding='utf-8') as class_file:\n",
        "                        class_text = class_file.read().strip()\n",
        "\n",
        "                for file in os.listdir(poem_dir):\n",
        "                    if file.endswith('.txt') and file not in ['CLASS.txt', 'SOURCE.txt']:\n",
        "                        file_path = os.path.join(poem_dir, file)\n",
        "                        with open(file_path, 'r', encoding='utf-8') as f:\n",
        "                            poem_text = f.read()\n",
        "                            title = os.path.splitext(file)[0]\n",
        "                            data.append({\n",
        "                                'poet': poet,\n",
        "                                'category': class_text,\n",
        "                                'title': title,\n",
        "                                'poem': poem_text\n",
        "                            })\n",
        "\n",
        "df = pd.DataFrame(data)\n",
        "\n",
        "df.to_csv('poems_dataset.csv', index=False, encoding='utf-8')\n",
        "!mv /kaggle/working/Bengali-Poem-Dataset/poems_dataset.csv /kaggle/working/\n",
        "%cd /kaggle/working/\n",
        "df.head()\n"
      ]
    },
    {
      "cell_type": "code",
      "execution_count": null,
      "metadata": {
        "id": "_jjB5EcQFiWC"
      },
      "outputs": [],
      "source": [
        "# @title Loading the last checkpoint from Google drive\n",
        "!cp /content/drive/MyDrive/adapter_model.safetensors /content/outputs/checkpoint-1500/"
      ]
    },
    {
      "cell_type": "code",
      "execution_count": null,
      "metadata": {
        "id": "F-6oousFFkvk"
      },
      "outputs": [],
      "source": [
        "# @title Loading Sarvam-1 from Huggingface\n",
        "from unsloth import FastModel\n",
        "import torch\n",
        "\n",
        "fourbit_models = [\n",
        "    # 4bit dynamic quants for superior accuracy and low memory use\n",
        "    \"unsloth/gemma-3-1b-it-unsloth-bnb-4bit\",\n",
        "    \"unsloth/gemma-3-4b-it-unsloth-bnb-4bit\",\n",
        "    \"unsloth/gemma-3-12b-it-unsloth-bnb-4bit\",\n",
        "    \"unsloth/gemma-3-27b-it-unsloth-bnb-4bit\",\n",
        "\n",
        "    # Other popular models!\n",
        "    \"unsloth/Llama-3.1-8B\",\n",
        "    \"unsloth/Llama-3.2-3B\",\n",
        "    \"unsloth/Llama-3.3-70B\",\n",
        "    \"unsloth/mistral-7b-instruct-v0.3\",\n",
        "    \"unsloth/Phi-4\",\n",
        "] # More models at https://huggingface.co/unsloth\n",
        "\n",
        "model, tokenizer = FastModel.from_pretrained(\n",
        "    model_name = \"sarvamai/sarvam-1\",\n",
        "    max_seq_length = 2048,\n",
        "    load_in_4bit = True,\n",
        "    load_in_8bit = False,\n",
        "    full_finetuning = False,\n",
        "    # token = \"hf_...\", # use one if using gated models\n",
        ")"
      ]
    },
    {
      "cell_type": "code",
      "execution_count": null,
      "metadata": {
        "id": "5Dwds7t_FnP4"
      },
      "outputs": [],
      "source": [
        "# @title To apply Parameter-Efficient Fine-Tuning (PEFT) to the pre-trained Gemma-3-4b model (unsloth provided)\n",
        "model = FastModel.get_peft_model(\n",
        "    model,\n",
        "    r = 64,\n",
        "    target_modules = [\"q_proj\", \"k_proj\", \"v_proj\", \"o_proj\",\n",
        "                      \"gate_proj\", \"up_proj\", \"down_proj\",\n",
        "                      \"embed_tokens\", \"lm_head\"],\n",
        "    lora_alpha = 32,\n",
        "    lora_dropout = 0,\n",
        "    bias = \"none\",\n",
        "    use_gradient_checkpointing = \"unsloth\",\n",
        "    random_state = 3407,\n",
        "    use_rslora = True,\n",
        "    loftq_config = None,\n",
        ")"
      ]
    },
    {
      "cell_type": "code",
      "execution_count": null,
      "metadata": {
        "id": "4SOKI_cHFqVk"
      },
      "outputs": [],
      "source": [
        "# @title Prompt and Dataset Loading (upload the poems_dataset.csv) to Google colab\n",
        "prompt = \"\"\"You are tasked with writing a poem related to the title in the style mentioned below. The poem should fit the specified category.\n",
        "\n",
        "### Title:\n",
        "{}\n",
        "### Category:\n",
        "{}\n",
        "\n",
        "### Poem:\n",
        "{}\"\"\"\n",
        "\n",
        "EOS_TOKEN = tokenizer.eos_token\n",
        "def formatting_prompts_func(examples):\n",
        "    titles    = examples[\"title\"]\n",
        "    categorys = examples[\"category\"]\n",
        "    poems     = examples[\"poem\"]\n",
        "    texts = []\n",
        "    for title, category, poem in zip(titles, categorys, poems):\n",
        "        text = prompt.format(title, category, poem) + EOS_TOKEN\n",
        "        texts.append(text)\n",
        "    return { \"text\" : texts, }\n",
        "pass\n",
        "\n",
        "from datasets import load_dataset\n",
        "dataset = load_dataset(\"csv\", data_files=\"/content/poems_dataset.csv\", split=\"train\")\n",
        "dataset = dataset.map(formatting_prompts_func, batched = True,)"
      ]
    },
    {
      "cell_type": "code",
      "execution_count": null,
      "metadata": {
        "id": "p5sZVTzxFsmc"
      },
      "outputs": [],
      "source": [
        "# @title Set up a training pipeline using the UnslothTrainer\n",
        "from transformers import TrainingArguments\n",
        "from unsloth import is_bfloat16_supported\n",
        "from unsloth import UnslothTrainer, UnslothTrainingArguments\n",
        "\n",
        "max_seq_length = 2048\n",
        "\n",
        "trainer = UnslothTrainer(\n",
        "    model = model,\n",
        "    tokenizer = tokenizer,\n",
        "    train_dataset = dataset,\n",
        "    dataset_text_field = \"text\",\n",
        "    max_seq_length = max_seq_length,\n",
        "    dataset_num_proc = 2,\n",
        "\n",
        "    args = UnslothTrainingArguments(\n",
        "        report_to = \"wandb\",\n",
        "        per_device_train_batch_size = 2,\n",
        "        gradient_accumulation_steps = 4,\n",
        "        warmup_ratio = 0.1,\n",
        "        num_train_epochs = 3,\n",
        "        learning_rate = 5e-5,\n",
        "        embedding_learning_rate = 1e-5,\n",
        "        fp16 = not is_bfloat16_supported(),\n",
        "        bf16 = is_bfloat16_supported(),\n",
        "        logging_steps = 1,\n",
        "        optim = \"adamw_8bit\",\n",
        "        weight_decay = 0.01,\n",
        "        lr_scheduler_type = \"cosine\",\n",
        "        seed = 3407,\n",
        "        output_dir = \"outputs\",\n",
        "    ),\n",
        ")"
      ]
    },
    {
      "cell_type": "code",
      "execution_count": null,
      "metadata": {
        "id": "EFHSQ7wrFu73"
      },
      "outputs": [],
      "source": [
        "# @title Start training. Use trainer.train() to start from Zero\n",
        "trainer.train()"
      ]
    },
    {
      "cell_type": "code",
      "execution_count": null,
      "metadata": {
        "id": "2YakEgsOFxAN"
      },
      "outputs": [],
      "source": [
        "# @title wandb login setup (needs your API key)\n",
        "!wandb login\n",
        "import wandb\n",
        "wandb.init()"
      ]
    },
    {
      "cell_type": "code",
      "execution_count": null,
      "metadata": {
        "id": "CC_nYYMIMT7G"
      },
      "outputs": [],
      "source": [
        "model.save_pretrained(\"sarvam1-poetry-bn\")\n",
        "tokenizer.save_pretrained(\"sarvam1-poetry-bn\")"
      ]
    },
    {
      "cell_type": "code",
      "execution_count": null,
      "metadata": {
        "id": "Btu6Orn7N8mD"
      },
      "outputs": [],
      "source": [
        "# @title Huggingface login\n",
        "from huggingface_hub import login\n",
        "login()"
      ]
    },
    {
      "cell_type": "code",
      "execution_count": null,
      "metadata": {
        "id": "5jqBi4M5N_Z9"
      },
      "outputs": [],
      "source": [
        "# @title Publish to Huggingface\n",
        "! huggingface-cli upload Ankita-Porel/sarvam1-v1 sarvam1-poetry-bn"
      ]
    },
    {
      "cell_type": "code",
      "execution_count": null,
      "metadata": {
        "id": "vC6e4pz_Fy2I"
      },
      "outputs": [],
      "source": [
        "# @title Load the model from huggingface for inference\n",
        "from unsloth import FastModel\n",
        "import torch\n",
        "\n",
        "model, tokenizer = FastModel.from_pretrained(\n",
        "    model_name=\"Ankita-Porel/sarvam1-v1\",\n",
        "    max_seq_length=2048,\n",
        "    load_in_4bit=True,\n",
        "    load_in_8bit = False,\n",
        "    full_finetuning = False,\n",
        "    # token=\"hf_...\"\n",
        ")"
      ]
    },
    {
      "cell_type": "code",
      "execution_count": null,
      "metadata": {
        "id": "tAlmRZcGF1Nq"
      },
      "outputs": [],
      "source": [
        "# @title Run the tests\n",
        "model = FastModel.for_inference(model)\n",
        "\n",
        "prompt = \"\"\"You are tasked with writing a poem related to the title in the style mentioned below. The poem should fit the specified category.\n",
        "\n",
        "### Title:\n",
        "{}\n",
        "### Category:\n",
        "{}\n",
        "\n",
        "### Poem:\n",
        "{}\"\"\"\n",
        "\n",
        "inputs = tokenizer(\n",
        "[\n",
        "    prompt.format(\n",
        "        \"বাংলার বায়ু, বাংলার ফল- পূণ্য হউক, পূণ্য হউক,\",\n",
        "        \"কীর্তন\",\n",
        "        \"\",\n",
        "    )\n",
        "], return_tensors = \"pt\").to(\"cuda\")\n",
        "\n",
        "outputs = model.generate(**inputs, max_new_tokens = 64, repetition_penalty = 2.0, use_cache = True)\n",
        "\n",
        "generated_text = tokenizer.batch_decode(outputs, skip_special_tokens=True)[0]\n",
        "\n",
        "with open(\"generated_output.txt\", \"w\", encoding=\"utf-8\") as file:\n",
        "    file.write(generated_text)\n",
        "\n",
        "print(\"Output saved to 'output.txt'\")\n",
        "tokenizer.batch_decode(outputs)"
      ]
    }
  ],
  "metadata": {
    "colab": {
      "provenance": []
    },
    "kernelspec": {
      "display_name": "Python 3",
      "name": "python3"
    },
    "language_info": {
      "name": "python"
    }
  },
  "nbformat": 4,
  "nbformat_minor": 0
}
